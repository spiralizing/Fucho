{
 "metadata": {
  "name": "",
  "signature": "sha256:923c12586843902e846824f5e4d2bef9bf8b7f423b114c79d335f007463070aa"
 },
 "nbformat": 3,
 "nbformat_minor": 0,
 "worksheets": [
  {
   "cells": [
    {
     "cell_type": "code",
     "collapsed": false,
     "input": [
      "import numpy as np\n",
      "import matplotlib.pyplot as plt\n",
      "import seaborn as sns\n",
      "import pandas as pd\n",
      "import sqlite3\n",
      "import numpy as np\n",
      "from numpy import random"
     ],
     "language": "python",
     "metadata": {},
     "outputs": [],
     "prompt_number": 2
    },
    {
     "cell_type": "code",
     "collapsed": false,
     "input": [
      "#getting the database ordered\n",
      "with sqlite3.connect('/home/alfredo/FuchoDatos/database.sqlite') as con:\n",
      "    countries = pd.read_sql_query(\"SELECT * from Country\", con)\n",
      "    matches = pd.read_sql_query(\"SELECT * from Match\", con)\n",
      "    leagues = pd.read_sql_query(\"SELECT * from League\", con)\n",
      "    teams = pd.read_sql_query(\"SELECT * from Team\", con)\n",
      "    players = pd.read_sql_query(\"SELECT * from Player\", con)\n",
      "    t_att = pd.read_sql_query(\"SELECT * from Team_Attributes\", con)\n",
      "    p_att = pd.read_sql_query(\"SELECT * from Player_Attributes\", con)"
     ],
     "language": "python",
     "metadata": {},
     "outputs": [],
     "prompt_number": 11
    },
    {
     "cell_type": "code",
     "collapsed": false,
     "input": [
      "#now is time to get the fields of interest.\n",
      "selected_countries = ['Spain', 'Germany', 'England'] #here you can select the countries you want to analyze\n",
      "countries = countries[countries.name.isin(selected_countries)]\n",
      "leagues = countries.merge(leagues,on='id',suffixes=('', '_y'))\n",
      "matches = matches[matches.league_id.isin(leagues.id)]\n",
      "teams = teams[teams.team_api_id.isin(matches.home_team_api_id)]\n"
     ],
     "language": "python",
     "metadata": {},
     "outputs": [],
     "prompt_number": 25
    },
    {
     "cell_type": "code",
     "collapsed": false,
     "input": [
      "m = matches.home_player_1\n",
      "#players.player_api_id"
     ],
     "language": "python",
     "metadata": {},
     "outputs": [],
     "prompt_number": 45
    },
    {
     "cell_type": "code",
     "collapsed": false,
     "input": [],
     "language": "python",
     "metadata": {},
     "outputs": [],
     "prompt_number": 46
    },
    {
     "cell_type": "code",
     "collapsed": false,
     "input": [],
     "language": "python",
     "metadata": {},
     "outputs": []
    }
   ],
   "metadata": {}
  }
 ]
}